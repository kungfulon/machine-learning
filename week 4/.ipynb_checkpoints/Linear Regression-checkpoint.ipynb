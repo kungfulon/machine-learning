{
 "cells": [
  {
   "cell_type": "markdown",
   "metadata": {},
   "source": [
    "# Hồi quy tuyến tính\n",
    "*Hoàn thành toàn bộ phần bài tập trong notebook này, bao gồm toàn bộ kết quả đầu ra và code hỗ trợ.*\n",
    "\n",
    "***\"Không có một sự kiện nào trên đời là ngẫu nhiên, những thứ đang cho là ngẫu nhiên chỉ là những sự kiện ta chưa tìm ra được mô hình để biểu diễn quy luật của chúng\".***\n",
    "\n",
    "Xây dựng mô hình **Hồi quy tuyến tính** bao gồm hai phần:\n",
    "- Trong quá trình huấn luyện, bộ phân lớp lấy dữ liệu huấn luyện và và học các tham số mô hình.\n",
    "- Trong quá trình kiếm tra, mô hình phân lớp từng đối tượng bằng cách nhân giá trị của mẫu với các tham số mô hình để tìm ra giá trị của nhãn.\n",
    "- Giá trị của tham số được kiểm định chéo.\n",
    "Trong bài tập này, bạn sẽ cài đặt những bước trên và hiểu được qui trình Xây dựng một mô hình đơn giản với Học tham số, kiểm định chéo, và hiểu được cách viết code hiệu quả với vectorize.\n",
    "\n",
    "Bài toán dự đoán giá nhà Boston được sử dụng trong bài tập này."
   ]
  },
  {
   "cell_type": "code",
   "execution_count": 74,
   "metadata": {},
   "outputs": [
    {
     "name": "stdout",
     "output_type": "stream",
     "text": [
      "The autoreload extension is already loaded. To reload it, use:\n",
      "  %reload_ext autoreload\n"
     ]
    }
   ],
   "source": [
    "# Import một số thư viện cần thiết.\n",
    "import random\n",
    "import numpy as np\n",
    "from sklearn import datasets\n",
    "from sklearn.model_selection import train_test_split \n",
    "import matplotlib.pyplot as plt\n",
    "\n",
    "# Sử dụng một mẹo nhỏ để vẽ hình trên cùng một dòng thay vì mở cửa sổ mới\n",
    "%matplotlib inline\n",
    "plt.rcParams['figure.figsize'] = (10.0, 8.0) # đặt kích thước mặc định cho hình\n",
    "plt.rcParams['image.interpolation'] = 'nearest'\n",
    "plt.rcParams['image.cmap'] = 'gray'\n",
    "\n",
    "# Một mẹo nhỏ để notebook tự load lại các module bên ngoài;\n",
    "# xem thêm tại http://stackoverflow.com/questions/1907993/autoreload-of-modules-in-ipython\n",
    "%load_ext autoreload\n",
    "%autoreload 2"
   ]
  },
  {
   "cell_type": "code",
   "execution_count": 75,
   "metadata": {},
   "outputs": [
    {
     "name": "stdout",
     "output_type": "stream",
     "text": [
      "Training data shape:  (404, 13)\n",
      "Training labels shape:  (404,)\n",
      "Test data shape:  (102, 13)\n",
      "Test labels shape:  (102,)\n"
     ]
    }
   ],
   "source": [
    "# Tải dữ liệu Giá nhà Boston từ Scikit-learn.\n",
    "boston = datasets.load_boston()\n",
    "X_train, X_test, y_train, y_test = train_test_split(boston.data, \\\n",
    "                                                    boston.target, test_size=0.2)\n",
    "\n",
    "# As a sanity check, we print out the size of the training and test data.\n",
    "print('Training data shape: ', X_train.shape)\n",
    "print('Training labels shape: ', y_train.shape)\n",
    "print('Test data shape: ', X_test.shape)\n",
    "print('Test labels shape: ', y_test.shape)"
   ]
  },
  {
   "cell_type": "markdown",
   "metadata": {},
   "source": [
    "## Load dữ liệu\n",
    "Hồi qui tuyến tính đơn giản là một cách tiếp cận để dự đoán phản ứng (giá trị đầu ra) khi dữ liệu có một đặc trưng duy nhất. Khi giả sử hai biến $x$ và $y$ liên hệ tuyến  tính thì mục tiêu của mô hình là cố tìm ra đường tuyến tính tốt nhất để dự đoán phản ứng ($y$). \n",
    "\n",
    "Đường đó được gọi là đường hồi quy.\n",
    "\n",
    "Công thức cho đường hồi quy được biểu diễn như sau:\n",
    "$$ \\hat{Y} = h(X) = XW$$\n",
    "Trong đó: \n",
    "\n",
    "- $X$ là ma trận có kích thước $N \\times D$ với $X_{ij}$ là giá trị của đặc trưng thứ $j$ của mẫu $i$.\n",
    "- $W$ là ma trận tham số có kích thước $D \\times 1$\n",
    "- $Y$ là giá trị phản ứng của $N$ mẫu.\n",
    "\n"
   ]
  },
  {
   "cell_type": "code",
   "execution_count": 76,
   "metadata": {},
   "outputs": [
    {
     "data": {
      "image/png": "[encoded data removed]",
      "text/plain": [
       "<matplotlib.figure.Figure at 0x7fb16d8f9668>"
      ]
     },
     "metadata": {},
     "output_type": "display_data"
    }
   ],
   "source": [
    "# Biểu diễn một số ví dụ trong tập huấn luyện sử dụng một đặc trưng duy nhất.\n",
    "# LSTAT - % lower status of the population\n",
    "plt.scatter(X_train[:,12], y_train)\n",
    "plt.xlabel(\"Crime rate\")\n",
    "plt.ylabel(\"House's price\")\n",
    "plt.show()"
   ]
  },
  {
   "cell_type": "markdown",
   "metadata": {},
   "source": [
    "## Huấn luyện mô hình\n",
    "Tất cả code cho phần bài tập này được lưu trong tệp **models/linear_regression.py** và **models/linear_loss.py**.\n",
    "### Cập nhật tham số\n",
    "Quá trình huấn luyện mô hình thực chất là từ dữ liệu để học ra tham số mô hình phù hợp nhất với mô hình sinh dữ liệu. Trong mô hình hồi quy tuyến tính, ta cần học tham số $W$.\n",
    "\n",
    "Khi khởi tạo mô hình, ta giả sử tham số được khởi tạo ngẫu nhiên. Sử dụng tham số $W$ đó, ta ước lượng được giá trị $Y$:\n",
    "$$ \\hat{y} = h(X) = WX $$\n",
    "\n",
    "Tổng sai số, độ lệch của giá trị dự đoán so với giá trị thực tế gọi là hàm giá trị (Cost function):\n",
    "$$ J(w) = \\frac{1}{2N}\\sum_{i=1}^{N} (\\hat{y}_i - y_i)^2 = \\frac{1}{2N}\\sum_{i=1}^{N}\\sum_{j=1}^{D} (w_{j}x_{ij} - y_{ij})^2$$\n",
    "\n",
    "\n",
    "Chúng ta sử thuật toán **xuống đồi (Gradient descent)** để tối ưu tham số $W$. (Xem khóa [Machine Learning](https://www.coursera.org/learn/machine-learning/))\n",
    "\n",
    "Đột tụt dốc của tham số $W$ được cập nhật theo công thức:\n",
    "$$ dw_i = \\frac{\\partial}{\\partial w_i}J(w)$$\n",
    "\n",
    "Đầu tiên, mở file ```models/linear_loss.py``` và cài đặt hàm ```linear_loss_naive```, sử dụng vòng lặp để tính hàm giá trị (Cost function)."
   ]
  },
  {
   "cell_type": "code",
   "execution_count": 326,
   "metadata": {},
   "outputs": [
    {
     "name": "stdout",
     "output_type": "stream",
     "text": [
      "loss: 7888.570471\n"
     ]
    }
   ],
   "source": [
    "from models.linear_loss import linear_loss_naive\n",
    "import time\n",
    "\n",
    "# sinh ngẫu nhiên các trọng số (W) với các giá trị nhỏ\n",
    "W = np.random.randn(13, ) * 0.0001 \n",
    "\n",
    "loss, grad = linear_loss_naive(W, X_test, y_test, 0.00001)\n",
    "print('loss: %f' % (loss, ))"
   ]
  },
  {
   "cell_type": "markdown",
   "metadata": {},
   "source": [
    "Lúc này, các giá trị gradient được trả về đều bằng 0. Đạo hàm và tính gradient theo công thức được cho ở trên trong cùng hàm ```linear_loss_naive```. Bạn sẽ thấy một số thứ hữu ích trong phần cài đặt trước đó.\n",
    "\n",
    "Để đảm bảo là bạn đã cài đặt đúng, chúng ta sẽ sử dụng hàm ```grad_check_sparse``` (đã được cài đặt sẵn) để kiểm tra."
   ]
  },
  {
   "cell_type": "code",
   "execution_count": 327,
   "metadata": {
    "scrolled": true
   },
   "outputs": [
    {
     "name": "stdout",
     "output_type": "stream",
     "text": [
      "numerical: -473.932962 analytic: -473.932962, relative error: 9.209163e-11\n",
      "numerical: -198.762017 analytic: -198.762017, relative error: 4.547469e-10\n",
      "numerical: -817.430350 analytic: -817.430350, relative error: 2.361731e-11\n",
      "numerical: -23.586929 analytic: -23.586928, relative error: 2.601824e-09\n",
      "numerical: -16267.165200 analytic: -16267.165200, relative error: 5.374669e-12\n",
      "numerical: -814.604541 analytic: -814.604541, relative error: 3.595183e-11\n",
      "numerical: -296.790806 analytic: -296.790806, relative error: 4.705399e-10\n",
      "numerical: -323.346772 analytic: -323.346772, relative error: 2.219780e-10\n",
      "numerical: -424.734354 analytic: -424.734354, relative error: 2.632613e-11\n",
      "numerical: -2794.727353 analytic: -2794.727353, relative error: 2.230676e-12\n",
      "numerical: -814.625486 analytic: -814.625487, relative error: 3.764932e-11\n",
      "numerical: -817.408173 analytic: -817.408173, relative error: 1.028707e-11\n",
      "numerical: -4.802473 analytic: -4.802473, relative error: 5.016477e-09\n",
      "numerical: -814.625486 analytic: -814.625487, relative error: 3.764932e-11\n",
      "numerical: -424.738592 analytic: -424.738592, relative error: 6.087220e-11\n",
      "numerical: -323.369596 analytic: -323.369596, relative error: 2.724032e-10\n",
      "numerical: -16267.160420 analytic: -16267.160420, relative error: 5.296509e-12\n",
      "numerical: -473.922065 analytic: -473.922065, relative error: 6.320762e-11\n",
      "numerical: -296.784296 analytic: -296.784296, relative error: 4.534542e-10\n",
      "numerical: -17065.263263 analytic: -17065.263263, relative error: 8.259673e-13\n"
     ]
    }
   ],
   "source": [
    "# Bởi vì bạn đã cài đặt hàm gradient, tính toán gradient với code dưới đây và\n",
    "# kiểm tra với hàm grad_check_sparse(...) đã cho.\n",
    "\n",
    "# Tính toán loss và grad với W.\n",
    "loss, grad = linear_loss_naive(W, X_test, y_test, 0.0)\n",
    "\n",
    "# Tính toán gradient theo một số chiều ngẫu nhiên và so sánh chúng với kết quả\n",
    "# của bạn. Giá trị phải gần như chính xác theo tất cả các chiều.\n",
    "from models.gradient_check import grad_check_sparse\n",
    "f = lambda w: linear_loss_naive(w, X_test, y_test, 0.0)[0]\n",
    "grad_numerical = grad_check_sparse(f, W, grad)\n",
    "\n",
    "# thực hiện kiểm tra khi có sử dụng regularization\n",
    "# đừng quên cài đặt gradient với regularization nhé.\n",
    "loss, grad = linear_loss_naive(W, X_test, y_test, 1e2)\n",
    "f = lambda w: linear_loss_naive(w, X_test, y_test, 1e2)[0]\n",
    "grad_numerical = grad_check_sparse(f, W, grad)\n",
    "\n",
    "# Kết quả relative error trong khoảng 1e-12"
   ]
  },
  {
   "cell_type": "code",
   "execution_count": 328,
   "metadata": {},
   "outputs": [
    {
     "name": "stdout",
     "output_type": "stream",
     "text": [
      "Naive loss: 7.888570e+03 computed in 0.009309s\n",
      "Vectorized loss: 7.888570e+03 computed in 0.000184s\n",
      "difference: 0.000000\n"
     ]
    }
   ],
   "source": [
    "# Kế tiếp, cài đặt linear_loss_vectorized; hiện tại chỉ tính toán hàm giá trị;\n",
    "# gradient sẽ cài đặt sau.\n",
    "tic = time.time()\n",
    "loss_naive, grad_naive = linear_loss_naive(W, X_test, y_test, 0.00001)\n",
    "toc = time.time()\n",
    "print('Naive loss: %e computed in %fs' % (loss_naive, toc - tic))\n",
    "\n",
    "# Vectorized\n",
    "from models.linear_loss import linear_loss_vectorized\n",
    "tic = time.time()\n",
    "loss_vectorized, _ = linear_loss_vectorized(W, X_test, y_test, 0.00001)\n",
    "toc = time.time()\n",
    "print('Vectorized loss: %e computed in %fs' % (loss_vectorized, toc - tic))\n",
    "\n",
    "# Hàm giá trị khi vectorized nên có cùng giá trị với giá trị được tính bằng hàm\n",
    "# linear_loss_naive() nhưng tính toán nhanh hơn\n",
    "print('difference: %f' % (loss_naive - loss_vectorized))"
   ]
  },
  {
   "cell_type": "code",
   "execution_count": 329,
   "metadata": {
    "scrolled": true
   },
   "outputs": [
    {
     "name": "stdout",
     "output_type": "stream",
     "text": [
      "Naive loss and gradient: computed in 0.003046s\n",
      "Vectorized loss and gradient: computed in 0.000221s\n",
      "difference: 0.0\n"
     ]
    }
   ],
   "source": [
    "# Hoàn thiện phần cài đặt của linear_loss_vectorized, và tính toán gradient theo\n",
    "# cách vectorized.\n",
    "\n",
    "# Hai hàm tính loss và gradient nên cho kết quả giống nhau nhưng bản vectorized \n",
    "# tính toán nhanh hơn.\n",
    "tic = time.time()\n",
    "_, grad_naive = linear_loss_naive(W, X_test, y_test, 0.00001)\n",
    "toc = time.time()\n",
    "print('Naive loss and gradient: computed in %fs' % (toc - tic))\n",
    "\n",
    "tic = time.time()\n",
    "_, grad_vectorized = linear_loss_vectorized(W, X_test, y_test, 0.00001)\n",
    "toc = time.time()\n",
    "print('Vectorized loss and gradient: computed in %fs' % (toc - tic))\n",
    "\n",
    "# So sánh gradient\n",
    "difference = np.linalg.norm(grad_naive - grad_vectorized)\n",
    "print('difference: {}'.format(difference))"
   ]
  },
  {
   "cell_type": "markdown",
   "metadata": {
    "collapsed": true
   },
   "source": [
    "### Huấn luyện với hàm cập nhật\n",
    "Sử dụng các hàm ```loss``` đã cài đặt ở trên để cài đặt hàm ```train``` trong tệp **linear_regression.py**.\n",
    "\n",
    "Tham số W được cập nhật từng thành phần theo công thức:\n",
    "$$ w_i =  w_i -\\alpha\\frac{\\partial}{\\partial w_i}J(w)$$"
   ]
  },
  {
   "cell_type": "code",
   "execution_count": 361,
   "metadata": {},
   "outputs": [
    {
     "name": "stdout",
     "output_type": "stream",
     "text": [
      "iteration 0 / 1500: loss 3812.894108\n",
      "iteration 100 / 1500: loss 3734.482660\n",
      "iteration 200 / 1500: loss 3709.112688\n",
      "iteration 300 / 1500: loss 3700.836449\n",
      "iteration 400 / 1500: loss 3698.110832\n",
      "iteration 500 / 1500: loss 3697.203281\n",
      "iteration 600 / 1500: loss 3696.897210\n",
      "iteration 700 / 1500: loss 3696.792453\n",
      "iteration 800 / 1500: loss 3696.755986\n",
      "iteration 900 / 1500: loss 3696.743048\n",
      "iteration 1000 / 1500: loss 3696.738361\n",
      "iteration 1100 / 1500: loss 3696.736624\n",
      "iteration 1200 / 1500: loss 3696.735965\n",
      "iteration 1300 / 1500: loss 3696.735710\n",
      "iteration 1400 / 1500: loss 3696.735608\n",
      "That took 0.197549s\n"
     ]
    }
   ],
   "source": [
    "# Ở trong tệp linear_regression.py, cài đặt hàm LinearRegression.train() và chạy\n",
    "# hàm đó với code sau\n",
    "from models.linear_regression import LinearRegression\n",
    "clf = LinearRegression()\n",
    "tic = time.time()\n",
    "loss_hist = clf.train(X_train, y_train, learning_rate=1e-7, reg=5e4,\n",
    "                      num_iters=1500, verbose=True)\n",
    "toc = time.time()\n",
    "print('That took %fs' % (toc - tic))"
   ]
  },
  {
   "cell_type": "code",
   "execution_count": 318,
   "metadata": {},
   "outputs": [
    {
     "data": {
      "image/png": "[encoded data removed]",
      "text/plain": [
       "<matplotlib.figure.Figure at 0x7fb16c6f9198>"
      ]
     },
     "metadata": {},
     "output_type": "display_data"
    }
   ],
   "source": [
    "# Một chiến thuật debug hiệu quả được sử dụng đó là vẽ ra lịch sử mất mát (loss \n",
    "# history) như là một hàm với số lần lặp.\n",
    "plt.plot(loss_hist)\n",
    "plt.xlabel('Iteration number')\n",
    "plt.ylabel('Loss value')\n",
    "plt.show()"
   ]
  },
  {
   "cell_type": "code",
   "execution_count": 366,
   "metadata": {},
   "outputs": [
    {
     "name": "stdout",
     "output_type": "stream",
     "text": [
      "[11.58555593  9.55552474 13.20224453 11.53134531 10.86392647  9.94540184\n",
      " 10.35948927 15.79206989 12.29677429 10.46878715 10.74404757  9.72616322\n",
      "  7.45907056 16.0803995   9.82752844 11.15775744  9.14787058 10.70423838\n",
      " 12.6072283   9.97827546 15.609306   15.81797517  9.21040381 12.75028112\n",
      " 15.94193546 11.88691538 11.44038469 11.95725681 14.86363191 13.10809911\n",
      "  8.91446888  8.93392077 10.31696573 12.01166875  9.55254462 12.47929697\n",
      "  9.38085783 15.93071892 15.49723339 14.91778779 10.23848317 11.36808203\n",
      " 15.34971633 11.0256406  10.42099385 10.85920159 11.81423451  9.49623099\n",
      " 10.51472431 11.85037902  9.42833408 10.96973056  9.39685255 12.30338734\n",
      "  8.87421671 15.76650794 15.89111235  9.32677291 15.3712886  15.98461264\n",
      "  9.52948473 11.70150488 15.76732239 16.06164747 10.8639194  10.89650786\n",
      " 15.96566956  9.42944745 11.35585106 11.42235179  9.1319606  10.45245543\n",
      " 11.81326169 10.35119281 10.51190098 10.72513285 10.50896426 12.74043703\n",
      " 10.30704552 10.86792248 13.84594305 12.65441668  8.99994732 10.83577221\n",
      " 10.1512573  11.04375192  9.85438371 10.50966214 10.65965331 11.78842502\n",
      " 16.02767176  9.94032951 15.89937398 10.29795746 10.94142765 16.02326031\n",
      " 15.95919005 10.46086311 10.63954208  9.8735861  10.62833928 10.29921452\n",
      " 15.35284098 10.71969436 10.34817989 10.81045801  9.46640678 11.28113768\n",
      " 11.22970497 11.17725003 12.63591003 14.78851387 10.67572803 11.99854611\n",
      " 11.14498408 16.01501518 10.71847301  9.73118838 11.17556159 10.14824077\n",
      " 15.94607659 10.41642639 11.98751151 15.98017203 10.39890469 11.29012008\n",
      " 10.467842   10.22149925  8.84143552  9.46420046 10.17248017 14.79838143\n",
      " 16.03956254  9.73393928  9.78130196 16.07048242 10.56068391 10.20178194\n",
      "  9.98074207  9.48587163 10.10598648 10.14140683 15.59269352 10.73996239\n",
      "  9.98269996 10.42214374 11.9413786  10.79643124 10.90107335 10.28219333\n",
      " 11.62658787 12.08492105 10.60523329 10.09102485  9.9255619  10.8056333\n",
      " 11.10683765 10.61121022 15.93344818 11.04572833  9.50992226 10.35093551\n",
      "  9.32969281  6.92884808 11.77403299 11.86369685  9.53947803  9.848539\n",
      "  9.53316799  9.42528014 10.28399159 16.08535221 12.6941918  16.05398047\n",
      "  9.3983204  10.93409607 10.36498286 15.72393316 16.07275296 10.78203501\n",
      " 12.55328985 12.03058588  9.12567243 10.27549327 15.99232905 14.63486562\n",
      " 16.05923293 10.5891269  10.18872766  9.75085343 15.91673372 12.17043815\n",
      " 10.73752188 10.45496003 15.53469472 16.05324511 15.06785009 11.9908309\n",
      "  9.84555156 10.32370976 10.0611432  15.90706487  9.26593056 15.36926402\n",
      " 10.38186455 11.91730054 15.76768373  9.20251513 11.66491586 10.81182853\n",
      " 11.17691649  8.63888368  9.83095665  8.9445834  10.51092756 10.66784738\n",
      " 16.05458912 10.42763609 15.86032779 12.01832658 10.45322684 15.45639696\n",
      " 10.41048071 11.91674648 11.35726212 10.62436967  9.83048378 10.40095562\n",
      " 11.89564169 10.40346888 10.46037615 16.01207289 10.75401823 10.20532974\n",
      "  9.88362104  9.52117752 11.98135227 10.31846776 11.71207364 12.60807708\n",
      "  8.77838946 15.74528496 10.43332722 10.70798526 10.39167982 11.97896136\n",
      "  9.62104951  9.91532056 10.10036166 16.05362306  9.80353814 11.77305293\n",
      " 12.0386358  14.39788173 10.23730395 10.84789059 12.30348314 16.00963294\n",
      "  9.91997457 10.78230048 10.71184088  9.50603102 10.51769796  9.00358226\n",
      " 11.24579956  9.93595454  9.58298191 14.61179672 10.27423333 11.66782597\n",
      "  9.48387924 11.10923043 11.83880432 12.05116741  9.02258799 11.24389402\n",
      " 10.78285424 12.75596085  9.5271211   9.04873645 15.73284554 10.65413981\n",
      " 12.52384115 11.82889068 10.53148902 10.05591908 10.03584642 10.60633611\n",
      "  9.67975601 11.61974567 10.49384012 10.89042054  9.53615832 12.4999924\n",
      " 10.21217519 15.66456418 14.84025973  9.74793694 10.71904199 15.98660568\n",
      " 10.08103207 16.08275272 10.77898971 15.89511735 10.24274778 12.78592279\n",
      " 10.59872301 16.0668466  10.37629306 10.58769504  9.46282776 11.31743384\n",
      " 11.90619893 10.43783234  9.49458741 12.62047703 12.13806621  9.15844852\n",
      " 15.91777202 10.75835519 11.44137651 10.39273645  9.88733278 15.27222257\n",
      " 10.92338906 10.28711731 10.48183945  9.62429768 12.02733799 12.23761894\n",
      "  9.6030977  15.04054084 10.75908043 10.70314092 14.08597807 10.7200627\n",
      " 10.96346204 10.15350373 16.65656994 10.61922201 10.33425622 10.68036087\n",
      " 16.06872582 14.86545914 10.6779882   9.86067194 11.96592437 10.86850868\n",
      " 11.88188398 10.83345929 10.33909678 10.12434111 10.23316988 12.0384481\n",
      " 10.70119992 10.38763338 10.28968309 10.10842271 16.08423529  8.6190148\n",
      "  9.62161808 10.18299993 10.07597626 10.83203854 10.37604649 16.06466723\n",
      " 11.76396829  9.8748943  12.30278604 15.33501476 16.64894898 10.24402681\n",
      " 12.20911015 10.16257977 10.78965995 10.2362484  10.91891471 15.32336665\n",
      " 11.98884468  9.815504   11.80735464 15.52932829 10.73758466 15.71010375\n",
      " 16.01123094 15.75325865 15.79567194 15.80490175 10.63955264 11.96985705\n",
      " 10.36641246  7.50982207 10.58683357 10.0012995  16.04502805 10.41261018\n",
      " 15.67827957 10.97890354 12.78030214 10.42241938 11.47410489  9.61897888\n",
      " 16.06482841 10.43240121]\n",
      "training accuracy: 0.000000\n",
      "[ 9.34855241 10.24877635 10.14058155  8.84558272 15.42308855  9.31181276\n",
      " 10.60468448  9.43643849 10.46395065 14.33266132 10.21786781 16.01428276\n",
      " 14.98774743 12.7025854  11.20155543 12.77274842 10.2136159  16.04485347\n",
      "  9.97702408 10.22949363  9.1366621  15.94445599 10.08664026 12.18252069\n",
      " 10.76070831 10.84404524 11.92248783 10.76437565 10.02019394 10.25901628\n",
      " 10.77255773  9.45302728 10.92781623 11.23137822 10.6487465  10.73270744\n",
      " 10.57668975 12.78439514  9.88685436 10.23929752 12.64649081 10.40059999\n",
      " 16.07100613 16.07454719 10.89132806 10.87063131 11.8975057  12.80104377\n",
      " 10.24827281 16.07622025 10.33948588 11.87444036 10.57962956 10.33364091\n",
      " 10.45896086  9.39412577 11.00050973 10.0441023   9.87133473 15.95162119\n",
      " 12.71206152 10.49855492 11.85244002 10.25710048 10.98966203  9.02568866\n",
      " 13.64722607 10.77817791 15.9261785  10.0872127   9.7156663  10.81696764\n",
      " 12.71188196 10.33355185 15.09227508 15.71942302 10.23325289 11.91378797\n",
      " 10.34163898 10.18962814 16.07525796 11.8132176   9.83882708  9.49266069\n",
      " 10.27486093 11.46042526 10.36800805  9.94459487 10.57477932  9.9109519\n",
      " 16.07660922  8.81328675 11.87406436 16.08069002 15.91620246 16.60171393\n",
      " 11.90885959 10.4656701  10.31972519 11.41213788 10.97431544  8.32689911]\n",
      "validation accuracy: 0.000000\n"
     ]
    }
   ],
   "source": [
    "# Cài đặt hàm LinearRegression.predict đánh giá hiệu năng mô hình trên cả tập\n",
    "# huấn luyện và tệp kiểm tra.\n",
    "y_train_pred = clf.predict(X_train)\n",
    "print('training accuracy: %f' % (np.mean(y_train == y_train_pred), ))\n",
    "y_test_pred = clf.predict(X_test)\n",
    "print('validation accuracy: %f' % (np.mean(y_test == y_test_pred), ))"
   ]
  },
  {
   "cell_type": "markdown",
   "metadata": {
    "collapsed": true
   },
   "source": [
    "### Sự chính quy hóa (Regularization)\n",
    "\n",
    "Regularization, một cách cơ bản, là thay đổi mô hình một chút để tránh overfitting trong khi vẫn giữ được tính tổng quát của nó (tính tổng quát là tính mô tả được nhiều dữ liệu, trong cả tập training và test).\n",
    "\n",
    "Có rất nhiều phương pháp được sử dụng để chính quy hóa một mô hình, trong đó, chúng ta sẽ tìm hiểu về phương pháp $L_2 \\, regularization$.\n",
    "\n",
    "#### Regularized loss function\n",
    "Kỹ thuật regularization phổ biến nhất là thêm vào hàm mất mát một số hạng nữa. Số hạng này thường dùng để đánh giá độ phức tạp của mô hình. Số hạng này càng lớn, thì mô hình càng phức tạp. Hàm mất mát mới này thường được gọi là `regularized loss function`, thường được định nghĩa như sau:\n",
    "$$ J_{reg}(\\theta) = J(\\theta) + \\lambda R(\\theta)$$\n",
    "\n",
    "Trong đó:\n",
    "- $\\theta$ là tham số mô hình (trong trường hợp này là $w$)\n",
    "- $\\lambda$ là hằng số regularization\n",
    "- $R(\\theta)$ là số hạng regularization\n",
    "\n",
    "Kỹ thuật `l2 regularization`sử dụng $R(\\theta) = R(w) = ||w||_2^2$.\n",
    "\n",
    "#### Cập nhật tham số\n",
    "Do tham số được cập nhật dựa trên đạo hàm của hàm mất mát, ta cần xây dựng lại công thức tính đạo hàm theo cách sau:\n",
    "$$ w_i =  w_i -\\alpha\\frac{\\partial}{\\partial w_i}J_{reg}(w)$$\n",
    "\n",
    "** Bài tập:** Dựa trên 2 công thức chuẩn hóa có ở trên, viết lại code cho bộ phân lớp `Linear Regression` và chạy tiếp code sau để tìm được mô hình tối ưu."
   ]
  },
  {
   "cell_type": "code",
   "execution_count": null,
   "metadata": {
    "collapsed": true
   },
   "outputs": [],
   "source": [
    "# Sử dụng tập kiểm tra để điều chỉnh các siêu tham số (độ lớn của reg và tỉ\n",
    "# lệ học. Bạn nên thực nghiệm với nhiều khoảng giá trị của 2 siêu tham số này\n",
    "# Nếu bạn đủ cẩn thận, bạn có thể đạt độ chính xác ... trên tập kiểm tra.\n",
    "learning_rates = [1e-7, 5e-5]\n",
    "regularization_strengths = [5e4, 1e5]\n",
    "\n",
    "# kết quả là một từ điển ánh xạ từ tuple có dạng (reg, lr) sang tuple có dạng\n",
    "# (train_acc, test_acc). Độ chính xác chỉ đơn giản là tỉ lệ mẫu dự đoán chính\n",
    "# xác trên toàn tập dữ liệu.\n",
    "results = {}\n",
    "best_test = -1   # Hiệu năng tốt nhất mà chúng ta sẽ đạt được.\n",
    "best_linear = None # Mô hình LinearRegression có hiệu năng tốt nhất.\n",
    "\n",
    "################################################################################\n",
    "# TODO:                                                                        #\n",
    "# Viết code chọn các siêu tham số tốt nhất bằng cách điều chỉnh trên tập kiểm  #\n",
    "# tra. Với mỗi tổ hợp siêu tham số, huấn luyện một mô hình LinearRegression    #\n",
    "# trên tập huấn luyện, tính toán độ chính xác trên tập huấn luyện và tập kiểm  #\n",
    "# tra, và lưu những con số này vào từ điển kết quả. Thêm vào đó, lưu hiệu năng #\n",
    "# tốt nhất trên tập kiểm tra vào best_val và mô hình LinearRegression tương    #\n",
    "# ứng vào best_svm.                                                            #  \n",
    "#                                                                              #\n",
    "# Gợi ý: Bạn nên sử dụng số vòng lặp (num_iters) nhỏ khi xây dựng code kiểm    #\n",
    "# tra để mô hình không mất quá nhiều thời gian để huấn luyện. Khi đã chắc chắn,#\n",
    "# bạn nên trả về kết quả với số vòng lặp lớn                                   #\n",
    "################################################################################\n",
    "pass\n",
    "################################################################################\n",
    "#                              KẾT THÚC                                        #\n",
    "################################################################################\n",
    "    \n",
    "# In kết quả\n",
    "for lr, reg in sorted(results):\n",
    "    train_accuracy, test_accuracy = results[(lr, reg)]\n",
    "    print('lr %e reg %e train accuracy: %f val accuracy: %f' % (\n",
    "                lr, reg, train_accuracy, test_accuracy))\n",
    "    \n",
    "print('best validation accuracy achieved during cross-validation: %f' % best_test)"
   ]
  },
  {
   "cell_type": "code",
   "execution_count": null,
   "metadata": {
    "collapsed": true
   },
   "outputs": [],
   "source": [
    "# Visualize kết quả kiểm thử chéo\n",
    "import math\n",
    "x_scatter = [math.log10(x[0]) for x in results]\n",
    "y_scatter = [math.log10(x[1]) for x in results]\n",
    "\n",
    "# plot training accuracy\n",
    "marker_size = 100\n",
    "colors = [results[x][0] for x in results]\n",
    "plt.subplot(2, 1, 1)\n",
    "plt.scatter(x_scatter, y_scatter, marker_size, c=colors)\n",
    "plt.colorbar()\n",
    "plt.xlabel('log learning rate')\n",
    "plt.ylabel('log regularization strength')\n",
    "plt.title('Boston training accuracy')\n",
    "\n",
    "# vẽ hiệu năng trên tập kiểm tra\n",
    "colors = [results[x][1] for x in results] # kích thước mặc định của marker là 20\n",
    "plt.subplot(2, 1, 2)\n",
    "plt.scatter(x_scatter, y_scatter, marker_size, c=colors)\n",
    "plt.colorbar()\n",
    "plt.xlabel('log learning rate')\n",
    "plt.ylabel('log regularization strength')\n",
    "plt.title('Boston test accuracy')\n",
    "plt.show()"
   ]
  }
 ],
 "metadata": {
  "kernelspec": {
   "display_name": "Python 3",
   "language": "python",
   "name": "python3"
  },
  "language_info": {
   "codemirror_mode": {
    "name": "ipython",
    "version": 3
   },
   "file_extension": ".py",
   "mimetype": "text/x-python",
   "name": "python",
   "nbconvert_exporter": "python",
   "pygments_lexer": "ipython3",
   "version": "3.6.3"
  }
 },
 "nbformat": 4,
 "nbformat_minor": 2
}
